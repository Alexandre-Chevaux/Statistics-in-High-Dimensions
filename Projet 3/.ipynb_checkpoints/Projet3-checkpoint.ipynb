{
 "cells": [
  {
   "cell_type": "markdown",
   "metadata": {},
   "source": [
    "# Projet 3 - Sparsité, estimation et sélection de variables"
   ]
  },
  {
   "cell_type": "code",
   "execution_count": 8,
   "metadata": {},
   "outputs": [],
   "source": [
    "import pandas as pd \n",
    "import numpy as np\n",
    "import matplotlib.pyplot as plt"
   ]
  },
  {
   "cell_type": "markdown",
   "metadata": {},
   "source": [
    "## Exercice 1"
   ]
  },
  {
   "cell_type": "markdown",
   "metadata": {},
   "source": [
    "On simule ici n variables aléatoires suivant le modèle de suite gaussienne soit:\n",
    "$$y_i=a*\\eta_j +\\xi_j \\text{ avec:}$$\n",
    "$$j=1,...,d ,$$\n",
    "$$\\eta_j \\in \\normalsize \\{ 0,1 \\normalsize \\},$$\n",
    "$$\\text{a} \\in \\normalsize \\{ 1, 2, 3, 4, 5, 6, 7, 8, 9, 10 \\normalsize \\},$$\n",
    "$$\\text{et }  \\xi_j \\sim N[0,1].$$\n",
    "$$ \\text{aussi, } \\eta_i \\text{ est tel que} \\sum_{j=1}^d \\eta_j= [d^{1-\\beta}] $$ \n",
    "$$ \\text{enfin, } \\theta^{\\star}_{j} = a * \\eta_{j}$$ \n",
    "$$\\text{puisque } \\eta_{j} \\in \\normalsize \\{0, 1 \\normalsize \\}, \\text{ le vecteur } \\theta^{\\star}_{j} \\text{ est un vecteur sparse}$$\n",
    "\n",
    "On cherche ainsi à déterminer le vecteur sparse theta étoile à partir de différents estimateurs par seuillage:\n",
    "\n",
    "1)Estimateur fort:\n",
    "$$\\hat{\\theta}_j^H = y_i\\mathbb{1}(|y_i| > \\tau) $$\n",
    "\n",
    "2) Estimateur faible:\n",
    "$$\\hat{\\theta}_j^S = y_i\\mathbb{1}(1-\\frac{\\tau}{|y_i|})_+ $$\n",
    "\n",
    "3) Non Negative Garrotte:\n",
    "$$\\hat{\\theta}_j^{NG} = y_i\\mathbb{1}(1-\\frac{\\tau^2}{|y_i|^2})_+ $$"
   ]
  },
  {
   "cell_type": "code",
   "execution_count": 9,
   "metadata": {},
   "outputs": [],
   "source": [
    "d = 50\n",
    "beta = 0.3\n",
    "tau = np.sqrt(2 * np.log(d))\n",
    "\n",
    "def y(a, eta, ksi):\n",
    "    return a * eta + ksi\n",
    "\n",
    "def theta_chap_H(y, tau):\n",
    "    return np.array(y * (np.abs(y) > tau * 1))\n",
    "\n",
    "def theta_chap_S(y, tau):\n",
    "    s = np.array(1 - tau/np.abs(y))\n",
    "    #s[s < 0] = 0\n",
    "    s = np.where(s < 0, 0, s)\n",
    "    s = y * s\n",
    "    return s\n",
    "\n",
    "def theta_chap_NG(y, tau):\n",
    "    ng = np.array(1 - np.power(tau, 2)/np.power(y, 2))\n",
    "    #ng[ng < 0] = 0\n",
    "    ng = np.where(ng < 0, 0, ng)\n",
    "    ng = y * ng\n",
    "    return ng"
   ]
  },
  {
   "cell_type": "markdown",
   "metadata": {},
   "source": [
    "#### 1) On trace dans 1er temps, le graphe des 3 estimateurs avec un y variant entre -10 et 10"
   ]
  },
  {
   "cell_type": "code",
   "execution_count": 10,
   "metadata": {},
   "outputs": [
    {
     "data": {
      "image/png": "[encoded data removed]",
      "text/plain": [
       "<matplotlib.figure.Figure at 0x20feadd35c0>"
      ]
     },
     "metadata": {},
     "output_type": "display_data"
    }
   ],
   "source": [
    "space = pd.Series(np.linspace(-10, 10, 1000))\n",
    "theta_chap_H_graph = theta_chap_H(space, tau)\n",
    "theta_chap_S_graph = theta_chap_S(space, tau)\n",
    "theta_chap_NG_graph = theta_chap_NG(space, tau)\n",
    "\n",
    "# Affichage des 3 graphes\n",
    "plt.figure()\n",
    "plt.title(\"Affichage des 3 estimateurs\")\n",
    "plt.xlabel(\"y\")\n",
    "plt.ylabel(\"estimate theta\")\n",
    "plt.plot(np.linspace(-10, 10, 1000), theta_chap_H_graph)\n",
    "plt.plot(np.linspace(-10, 10, 1000), theta_chap_S_graph)\n",
    "plt.plot(np.linspace(-10, 10, 1000), theta_chap_NG_graph)\n",
    "plt.legend([\"Hard Thresholding\",\n",
    "           \"Soft Thresholding\",\n",
    "           \"Non-Negative Garotte\"])\n",
    "plt.show()"
   ]
  },
  {
   "cell_type": "markdown",
   "metadata": {},
   "source": [
    "On vérifie bien qu'autour de 0, les valeurs retournées sont nulles : c'est l'effet recherché lors de la construction d'un estimateur sparse."
   ]
  },
  {
   "cell_type": "markdown",
   "metadata": {},
   "source": [
    "#### 2) Risque Quadratique des estimateurs.\n",
    "On rappelle:\n",
    "$$R(\\hat{\\theta},a)=||\\hat{\\theta}-\\theta^*||_2^2 $$\n",
    "On a les données suivantes pour l'application numérique :\n",
    "$$d = 50$$\n",
    "$$\\beta = 0.3$$"
   ]
  },
  {
   "cell_type": "markdown",
   "metadata": {},
   "source": [
    "Afin de calculer le risque des estimateurs, nous allons simuler 50 observations de y, de la facon suivante :\n",
    " * Caclul du nombre de coordonnées non null du vecteur eta. Il est donné par la formule : \n",
    " $$\\sum_{j=1}^{50} \\eta_j= 50^{1-0.3} = 15 $$ \n",
    " * Simulation du vecteur eta, de manière aléatoire, et de facon à ce qu'il y ait exactement 15 coordonées de eta ayant pour valeur 1, les autres ayant pour valeur 0\n",
    " * Multiplication du vecteur eta par un scalaire a donné\n",
    " * Simulation d'un vecteur epsilon, dont les coordonnées suivent des lois normales centrées réduites\n",
    " * Somme des vecteur a*eta et epsilon : on obtient le vecteur y simulé\n",
    " * Afin de distinguer la partie bruitée (aléatoire) de Y, et sa partie déterministe, on renvoi le vecteur Y simulé, aiinsi que le vecteur a * eta, le bruit étant évidemment obtenu par la soustraction du premier par le second"
   ]
  },
  {
   "cell_type": "markdown",
   "metadata": {},
   "source": [
    "a) Définition de la fonction de simulation de Y, et de la fonction de risque quadratique"
   ]
  },
  {
   "cell_type": "code",
   "execution_count": 11,
   "metadata": {},
   "outputs": [],
   "source": [
    "def simul_y(d, beta, a):\n",
    "    # eta = {0, 1}\n",
    "    # Compute the sum of eta to get number of positive eta\n",
    "    sum_eta = int(np.power(d, 1-beta))\n",
    "    ksi = []\n",
    "    Y = []\n",
    "    theta_star = []\n",
    "    # Initialize the etas vector (d,1) with only zeros\n",
    "    eta = np.repeat(0, d)\n",
    "    # Simulation eta vector\n",
    "    # fill etas vector with ones, in order to have exactly sum_eta \"1\" and (d - sum_eta) \"0\"\n",
    "    for i in range(1, sum_eta + 1):\n",
    "        one_allocated = False\n",
    "        while not one_allocated:            \n",
    "            rnd = int(np.random.random() * d)\n",
    "            one_allocated = (eta[rnd] == 0)\n",
    "            eta[rnd] = 1\n",
    "    # Simulating Y\n",
    "    for j in range(0, d):\n",
    "        ksi.append(np.random.normal(0, 1, 1)[0])\n",
    "        Y.append(a * eta[j] + ksi[j])\n",
    "        theta_star.append(a * eta[j])\n",
    "    \n",
    "    return pd.Series(Y), pd.Series(theta_star)\n",
    "\n",
    "def quad_risk(Y, theta_star, theta_chap_func, tau):\n",
    "    empirical_risk = 0\n",
    "    for j in range(0, len(Y)):\n",
    "        empirical_risk += np.power(theta_chap_func(Y[j], tau) - theta_star[j], 2)\n",
    "    \n",
    "    return empirical_risk"
   ]
  },
  {
   "cell_type": "markdown",
   "metadata": {},
   "source": [
    "b) Calcul du risque quadratique, pour a variant de 1 à 10, et pour les 3 estimateurs par seuillage considérés."
   ]
  },
  {
   "cell_type": "markdown",
   "metadata": {},
   "source": [
    "Puisque le vecteur y est simulé, le risque est en réalité un risque quadratique empirique. Afin d'obtenir la \"vrai\" valeur du risque quadratique, pour chaque couple (a, estimateur par seuillage), on réitère la simulation nb_simul fois (la loi des grands nombres permettant de dire que ce que nous obtenons est la \"vrai\" valeur du risque)"
   ]
  },
  {
   "cell_type": "code",
   "execution_count": 12,
   "metadata": {},
   "outputs": [
    {
     "data": {
      "image/png": "[encoded data removed]",
      "text/plain": [
       "<matplotlib.figure.Figure at 0x20feadf0630>"
      ]
     },
     "metadata": {},
     "output_type": "display_data"
    }
   ],
   "source": [
    "estimators = [theta_chap_H, theta_chap_S, theta_chap_NG]\n",
    "a_list = np.linspace(1, 10, 100)\n",
    "nb_simul = 100\n",
    "\n",
    "all_estimators_graphs = {}\n",
    "for estimator in estimators:\n",
    "    estimator_graph = []\n",
    "    for a in a_list:\n",
    "        quad_risk_result = 0\n",
    "        for i_simul in range(1, nb_simul):\n",
    "            Y, theta_star = simul_y(d, beta, a)\n",
    "            quad_risk_result += quad_risk(Y, theta_star, estimator, tau)\n",
    "        quad_risk_result /= nb_simul\n",
    "        estimator_graph.append(quad_risk_result)\n",
    "    all_estimators_graphs.update({estimator.__name__:\n",
    "                                estimator_graph})\n",
    "\n",
    "plt.figure()\n",
    "plt.title(\"Risque Quadratique des 3 estimateurs\")\n",
    "plt.xlabel(\"a\")\n",
    "plt.ylabel(\"R(theta, a)\")\n",
    "legends = []\n",
    "for estimator_name, estimator_graph in all_estimators_graphs.items():\n",
    "    plt.plot(a_list, estimator_graph)\n",
    "    legends.append(\"theta = \" + estimator_name)\n",
    "plt.legend(legends)\n",
    "plt.show()"
   ]
  },
  {
   "cell_type": "markdown",
   "metadata": {},
   "source": [
    "On observe que le risque quadratique tend vers 20 pour l'estimateur par seuillage dur et non-negative garrotte mais qu'il tend vers 130 pour l'estimateur par seuillage doux."
   ]
  },
  {
   "cell_type": "markdown",
   "metadata": {},
   "source": [
    "#### 3) Risque de Sélection de Variables des estimateurs\n",
    "Ce risque s'exprime comme:\n",
    "$$ R^{MS}(\\hat{\\theta},a)=\\sum_{j=1}^M |\\eta_j -\\hat{\\eta_j}| $$\n",
    "$$\\text{avec } \\hat{\\eta_j}=\\mathbb{1}(|y_i| \\geqslant \\tau) $$\n",
    "$$\\text{et } \\eta_j \\in \\normalsize \\{ \\normalsize 0,1 \\} $$\n",
    "\n",
    "Il représente le risque de définir une coordonnée de theta chapeau comme n'étant pas nulle, alors qu'elle l'est en réalité (dans theta étoile).\n",
    "Ainsi, puisque c'est le vecteur eta chapeau (étoile) qui définit les coordonnée non-nulles de theta chapeau (étoile), le risque est calculé comme la somme des différences entre chaque coordonnées de theta étoile et theta chapeau.\n",
    "    "
   ]
  },
  {
   "cell_type": "code",
   "execution_count": 13,
   "metadata": {},
   "outputs": [],
   "source": [
    "def selection_var_risk(eta, eta_chap):\n",
    "    sum_risk = 0\n",
    "    for j in range(0, len(eta)):\n",
    "        sum_risk += np.abs(eta[j] - eta_chap[j])\n",
    "\n",
    "    return sum_risk"
   ]
  },
  {
   "cell_type": "code",
   "execution_count": 14,
   "metadata": {},
   "outputs": [
    {
     "data": {
      "image/png": "[encoded data removed]",
      "text/plain": [
       "<matplotlib.figure.Figure at 0x20feab5cb38>"
      ]
     },
     "metadata": {},
     "output_type": "display_data"
    }
   ],
   "source": [
    "estimators = [theta_chap_H, theta_chap_S, theta_chap_NG]\n",
    "a_list = np.linspace(1, 10, 100)\n",
    "nb_simul = 100\n",
    "\n",
    "all_risk_graph = {}\n",
    "for estimator in estimators:\n",
    "    risk_graph = []\n",
    "    for a in a_list:\n",
    "        selection_var_risk_result = 0\n",
    "        for i_simul in range(1, nb_simul):\n",
    "            Y, theta_star = simul_y(d, beta, a)\n",
    "            eta = theta_star/a\n",
    "            eta_chap = (np.abs(Y) >= tau) * 1\n",
    "            selection_var_risk_result += selection_var_risk(eta, eta_chap)\n",
    "        selection_var_risk_result /= nb_simul\n",
    "        risk_graph.append(selection_var_risk_result)\n",
    "    all_risk_graph.update({estimator.__name__:\n",
    "                                risk_graph})\n",
    "\n",
    "plt.figure()\n",
    "plt.title(\"Risque De Sélection de Variables des 3 estimateurs\")\n",
    "plt.xlabel(\"a\")\n",
    "plt.ylabel(\"R^MS(theta, a)\")\n",
    "legends = []\n",
    "for estimator_name, risk_graph in all_risk_graph.items():\n",
    "    plt.plot(a_list, risk_graph)\n",
    "    legends.append(\"theta = \" + estimator_name)\n",
    "plt.legend(legends)\n",
    "plt.show()"
   ]
  },
  {
   "cell_type": "markdown",
   "metadata": {},
   "source": [
    "On constate que le risque de sélection de variable tend vers 0 pour chaque estimateur.\n",
    "Ainsi, en ce qui concerne la sélection de variables, les 3 estimateurs font aussi bien, et à partir de a = 5, ce risque est nul pour les 3 estimateurs."
   ]
  },
  {
   "cell_type": "markdown",
   "metadata": {},
   "source": [
    "#### Conclusion"
   ]
  },
  {
   "cell_type": "markdown",
   "metadata": {},
   "source": [
    "Nous avons donc comparé, dans cette exercice, les propriétés de 3 estimateurs :\n",
    " * L'estimateur par seuilage doux\n",
    " * L'estimateur par seuillage dur\n",
    " * l'estimateur \"non-negative garrotte\"\n",
    "\n",
    "Voici un tableau récapitulatif de nos résultats : \n",
    "\n",
    "|   Estimateur      | Risque Quadratique | Risque De séléction de variables |\n",
    "|-------------------|--------------------|----------------------------------|\n",
    "|   Seuillage doux  |      Mauvais       |              Bon                 |\n",
    "|   Seuillage dur   |     Très Bon       |              Bon                 |\n",
    "| Non-Neg Garrotte  |        Bon         |              Bon                 |\n",
    "\n",
    " * On observe que ces 3 estimateurs sont inégaux par rapport au risque quadratique : l'estimateur par seuillage doux présente le risque le plus fort, tandis que l'estimateur par seuillage dur présente le risque le plus faible, ou en tout cas convergeant le plus rapidement vers ce niveau (par rapport à \"non-negative garrotte\".\n",
    " \n",
    " * En revanche, ils présentent un même \"meilleur\" niveau de risque de sélection de variables (ce niveau étant nul par ailleurs), et une vitesse de convergence identique.\n",
    "\n",
    "On peut donc conclure à priori, que l'estimateur par seuillage dur est le meilleur parmi ces 3 estimateurs, dans la mesure où il présente un risque quadratique généralement plus faible, associé à un risque de sélection de variable égal aux autres estimateurs, et de valeur nulle."
   ]
  },
  {
   "cell_type": "markdown",
   "metadata": {},
   "source": [
    "## Exercice 2"
   ]
  },
  {
   "cell_type": "markdown",
   "metadata": {},
   "source": [
    "Dans cette exercice on s'interesse à la détection de rupture.\n",
    "On considère, comme dans l'exercice précèdent, un modèle de Suites Gaussiennes.\n",
    "\n",
    "La Matrice Theta etoile nous est donnée, et est de la forme :\n",
    "\n",
    "| theta etoile|\n",
    "|-------------|\n",
    "|      3      |\n",
    "|      3      |\n",
    "|     ...     |\n",
    "|      3      |\n",
    "|      7      |\n",
    "|      7      |\n",
    "|     ...     |\n",
    "|      7      |\n",
    "|     1.5     |\n",
    "|     1.5     |\n",
    "|     ...     |\n",
    "|     1.5     |\n",
    "|      2      |\n",
    "|      2      |\n",
    "|     ...     |"
   ]
  },
  {
   "cell_type": "markdown",
   "metadata": {},
   "source": [
    "Le vecteur n'est donc pas sparse, et l'on cherche à détecter les ruptures sur le vecteur theta etoile.\n",
    "Que peut-on faire ?\n",
    " * Nous allons définir une vecteur delta, qui sera la différence entre les coefficients de theta etoile, obtenant ainsi un vecteur sparse.\n",
    " * Nous allons ensuite appliquer une estimation par seuillage dur sur les coordonnées de delta, obtenant ainsi le vecteur delta chapeau\n",
    " * Et ainsi trouver le vecteur J etoile, indiquant les indices où les coordonnées du vecteur delta ne sont pas nulles, et indiquant, par la même, les points de rupture sur theta etoile : ce sont les indices où delta chapeau est différent de 0."
   ]
  },
  {
   "cell_type": "code",
   "execution_count": 15,
   "metadata": {},
   "outputs": [],
   "source": [
    "d = 50\n",
    "tau = np.sqrt(2*np.log(d))\n",
    "\n",
    "theta_star = np.repeat(1, d)\n",
    "theta_star[0:10] = np.repeat(3, 10)\n",
    "theta_star[10:30] = np.repeat(7, 20)\n",
    "theta_star[30:40] = np.repeat(1.5, 10)\n",
    "theta_star[40:] = np.repeat(2, (d-40))\n",
    "\n",
    "theta_star = pd.Series(theta_star)"
   ]
  },
  {
   "cell_type": "markdown",
   "metadata": {},
   "source": [
    "### Simulation de Y et calcul du vecteur delta"
   ]
  },
  {
   "cell_type": "code",
   "execution_count": 16,
   "metadata": {},
   "outputs": [
    {
     "data": {
      "text/plain": [
       "0    2.783021\n",
       "1    3.073928\n",
       "2    2.824183\n",
       "3    2.902715\n",
       "4    3.018084\n",
       "dtype: float64"
      ]
     },
     "execution_count": 16,
     "metadata": {},
     "output_type": "execute_result"
    }
   ],
   "source": [
    "epsilon = 1/np.sqrt(d)\n",
    "y = theta_star + epsilon * np.random.normal(0, 1, d)\n",
    "y.head()"
   ]
  },
  {
   "cell_type": "markdown",
   "metadata": {},
   "source": [
    "Création de la matrice Delta"
   ]
  },
  {
   "cell_type": "markdown",
   "metadata": {},
   "source": [
    "Celle ci est construite comme suit:\n",
    "$$\\Delta_j^*=z_{j+1}-z_j $$"
   ]
  },
  {
   "cell_type": "markdown",
   "metadata": {},
   "source": [
    " * à partir du vecteur theta --> pas d'aléatoire"
   ]
  },
  {
   "cell_type": "code",
   "execution_count": 17,
   "metadata": {},
   "outputs": [
    {
     "data": {
      "text/plain": [
       "0     0.0\n",
       "1     0.0\n",
       "2     0.0\n",
       "3     0.0\n",
       "4     0.0\n",
       "5     0.0\n",
       "6     0.0\n",
       "7     0.0\n",
       "8     0.0\n",
       "9     4.0\n",
       "10    0.0\n",
       "dtype: float64"
      ]
     },
     "execution_count": 17,
     "metadata": {},
     "output_type": "execute_result"
    }
   ],
   "source": [
    "delta = theta_star - theta_star.shift(1)\n",
    "delta = delta.dropna().reset_index(drop=True)\n",
    "delta.head(11)"
   ]
  },
  {
   "cell_type": "markdown",
   "metadata": {},
   "source": [
    " * à partir du vecteur y --> theta + de l'aléatoire"
   ]
  },
  {
   "cell_type": "code",
   "execution_count": 18,
   "metadata": {},
   "outputs": [
    {
     "data": {
      "text/plain": [
       "0     0.290907\n",
       "1    -0.249745\n",
       "2     0.078532\n",
       "3     0.115369\n",
       "4     0.274495\n",
       "5    -0.404199\n",
       "6     0.313919\n",
       "7    -0.185769\n",
       "8    -0.115767\n",
       "9     4.312389\n",
       "10   -0.070362\n",
       "dtype: float64"
      ]
     },
     "execution_count": 18,
     "metadata": {},
     "output_type": "execute_result"
    }
   ],
   "source": [
    "y_delta = y - y.shift(1)\n",
    "y_delta = y_delta.dropna().reset_index(drop=True)\n",
    "y_delta.head(11)"
   ]
  },
  {
   "cell_type": "markdown",
   "metadata": {},
   "source": [
    "### Estimation de delta chapeau"
   ]
  },
  {
   "cell_type": "markdown",
   "metadata": {},
   "source": [
    "$$\\textbf{Seuillage Dur} $$"
   ]
  },
  {
   "cell_type": "markdown",
   "metadata": {},
   "source": [
    "Pour estimer J*, vecteur des coordonnées non nulles de delta, on utilse les différents estimateurs de seuillage de l'exercie 1, sur delta_chapeau."
   ]
  },
  {
   "cell_type": "markdown",
   "metadata": {},
   "source": [
    " * Estimation de J*"
   ]
  },
  {
   "cell_type": "code",
   "execution_count": 19,
   "metadata": {},
   "outputs": [
    {
     "data": {
      "text/plain": [
       "(array([ 9, 29], dtype=int64),)"
      ]
     },
     "execution_count": 19,
     "metadata": {},
     "output_type": "execute_result"
    }
   ],
   "source": [
    "delta_chap = theta_chap_H(y_delta, tau)\n",
    "J_star = np.where(delta_chap != 0)\n",
    "J_star"
   ]
  },
  {
   "cell_type": "markdown",
   "metadata": {},
   "source": [
    " * Risque Quadratique Estimé"
   ]
  },
  {
   "cell_type": "code",
   "execution_count": 20,
   "metadata": {},
   "outputs": [
    {
     "name": "stdout",
     "output_type": "stream",
     "text": [
      "1.1056740482751921\n"
     ]
    }
   ],
   "source": [
    "est_quad_risk_H = quad_risk(y_delta, delta, theta_chap_H, tau)\n",
    "print(est_quad_risk_H)"
   ]
  },
  {
   "cell_type": "markdown",
   "metadata": {},
   "source": [
    "$$\\textbf{Seuillage Doux} $$"
   ]
  },
  {
   "cell_type": "markdown",
   "metadata": {},
   "source": [
    " * Estimation de J*"
   ]
  },
  {
   "cell_type": "code",
   "execution_count": 21,
   "metadata": {},
   "outputs": [
    {
     "data": {
      "text/plain": [
       "(array([ 9, 29], dtype=int64),)"
      ]
     },
     "execution_count": 21,
     "metadata": {},
     "output_type": "execute_result"
    }
   ],
   "source": [
    "delta_chap = theta_chap_S(y_delta, tau)\n",
    "J_star = np.where(delta_chap != 0)\n",
    "J_star"
   ]
  },
  {
   "cell_type": "markdown",
   "metadata": {},
   "source": [
    " * Risque Quadratique Estimé"
   ]
  },
  {
   "cell_type": "code",
   "execution_count": 22,
   "metadata": {},
   "outputs": [
    {
     "name": "stdout",
     "output_type": "stream",
     "text": [
      "14.503087107569073\n"
     ]
    }
   ],
   "source": [
    "est_quad_risk_S = quad_risk(y_delta, delta,theta_chap_S, tau)\n",
    "print(est_quad_risk_S)\n"
   ]
  },
  {
   "cell_type": "markdown",
   "metadata": {},
   "source": [
    "$$ \\textbf{Non-Negative Garrotte}$$"
   ]
  },
  {
   "cell_type": "markdown",
   "metadata": {},
   "source": [
    " * Estimation de J*"
   ]
  },
  {
   "cell_type": "code",
   "execution_count": 23,
   "metadata": {},
   "outputs": [
    {
     "data": {
      "text/plain": [
       "(array([ 9, 29], dtype=int64),)"
      ]
     },
     "execution_count": 23,
     "metadata": {},
     "output_type": "execute_result"
    }
   ],
   "source": [
    "delta_chap = theta_chap_NG(y_delta, tau)\n",
    "J_star = np.where(delta_chap != 0)\n",
    "J_star"
   ]
  },
  {
   "cell_type": "markdown",
   "metadata": {},
   "source": [
    " * Risque Quadratique Estimé"
   ]
  },
  {
   "cell_type": "code",
   "execution_count": 24,
   "metadata": {},
   "outputs": [
    {
     "name": "stdout",
     "output_type": "stream",
     "text": [
      "4.683396150560334\n"
     ]
    }
   ],
   "source": [
    "est_quad_risk_NG = quad_risk(y_delta, delta,theta_chap_NG, tau)\n",
    "print(est_quad_risk_NG)"
   ]
  },
  {
   "cell_type": "markdown",
   "metadata": {},
   "source": [
    "$$\\textbf{Résultat:} $$\n",
    "On connais nos points de ruptures, et l'on souhaite voir si nos estimateurs les détectent.\n",
    "Les points de rupture sont aux période 10, 30 et 40.\n",
    "On constate que le vecteur J* calculé à partir des 3 estimateurs détecte bien les deux premières ruptures, mais aucun ne parviennent à détecter la dernière rupture.\n",
    "Cela semble à priori logique dans la mesure où, dans les deux premières ruptures, le delta est supérieur ou égal à 4, alors que pour la 3ème et dernière rupture, le delta n'est que de 0.5 : ce pourrais vraisemblablement n'être que du bruit."
   ]
  },
  {
   "cell_type": "markdown",
   "metadata": {},
   "source": [
    "## Exercice 3"
   ]
  },
  {
   "cell_type": "markdown",
   "metadata": {},
   "source": [
    "On s'interrese ici au cours de Bourse de Renault sur la période 2018. On sait que les révélations sur Carlos Ghosn ont eut un impact qui a fait chuter d'un coup le cours en bourse.\n",
    "On veut savoir si nos estimateurs définis dans ce projet, sont capables de détecter cette rupture.\n",
    "Nous allons ainsi reproduire la procédure de l'exercice 2, mais sur le cours de bourse de l'action Renault."
   ]
  },
  {
   "cell_type": "code",
   "execution_count": 28,
   "metadata": {},
   "outputs": [
    {
     "data": {
      "text/plain": [
       "0    85.23\n",
       "1    84.88\n",
       "2    83.92\n",
       "3    83.51\n",
       "4    84.41\n",
       "Name: clot, dtype: float64"
      ]
     },
     "execution_count": 28,
     "metadata": {},
     "output_type": "execute_result"
    }
   ],
   "source": [
    "df = pd.read_excel(r\"CoursRenault.xls\")\n",
    "\n",
    "close = df[\"clot\"]\n",
    "date=df[\"date\"]\n",
    "\n",
    "\n",
    "d = len(close)\n",
    "tau = np.sqrt(5*np.log(d))\n",
    "close.head()"
   ]
  },
  {
   "cell_type": "code",
   "execution_count": 29,
   "metadata": {},
   "outputs": [],
   "source": [
    "close_delta = close - close.shift(1)\n",
    "close_delta = close_delta.dropna().reset_index(drop=True)"
   ]
  },
  {
   "cell_type": "code",
   "execution_count": 30,
   "metadata": {},
   "outputs": [
    {
     "name": "stdout",
     "output_type": "stream",
     "text": [
      "(array([ 79, 243], dtype=int64),)\n",
      "80    2018-03-29\n",
      "244   2018-11-19\n",
      "Name: date, dtype: datetime64[ns]\n"
     ]
    }
   ],
   "source": [
    "theta_chap = theta_chap_H(close_delta, tau)\n",
    "J_star = np.where(theta_chap != 0)\n",
    "print(J_star)\n",
    "print(date[J_star[0]+1])"
   ]
  },
  {
   "cell_type": "markdown",
   "metadata": {},
   "source": [
    "On observe bien une rupture du cours de bourse au niveau de la 243ème valeur du Dataset (à la date du 19/11/2018) ce qui correspond au jour de sortie des révélations. L'autre point de ruputre du 29 mars correspond à une rumeur de fusion avec Nissan."
   ]
  },
  {
   "cell_type": "code",
   "execution_count": null,
   "metadata": {},
   "outputs": [],
   "source": []
  }
 ],
 "metadata": {
  "kernelspec": {
   "display_name": "Python 3",
   "language": "python",
   "name": "python3"
  },
  "language_info": {
   "codemirror_mode": {
    "name": "ipython",
    "version": 3
   },
   "file_extension": ".py",
   "mimetype": "text/x-python",
   "name": "python",
   "nbconvert_exporter": "python",
   "pygments_lexer": "ipython3",
   "version": "3.6.4"
  }
 },
 "nbformat": 4,
 "nbformat_minor": 2
}
